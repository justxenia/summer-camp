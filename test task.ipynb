{
 "cells": [
  {
   "cell_type": "code",
   "execution_count": 17,
   "metadata": {},
   "outputs": [],
   "source": [
    "import pandas as pd\n",
    "import seaborn as sns\n",
    "import matplotlib.pyplot as plt\n",
    "import datetime\n",
    "from scipy import stats as st\n",
    "import numpy as np"
   ]
  },
  {
   "cell_type": "code",
   "execution_count": 2,
   "metadata": {},
   "outputs": [
    {
     "data": {
      "text/html": [
       "<div>\n",
       "<style scoped>\n",
       "    .dataframe tbody tr th:only-of-type {\n",
       "        vertical-align: middle;\n",
       "    }\n",
       "\n",
       "    .dataframe tbody tr th {\n",
       "        vertical-align: top;\n",
       "    }\n",
       "\n",
       "    .dataframe thead th {\n",
       "        text-align: right;\n",
       "    }\n",
       "</style>\n",
       "<table border=\"1\" class=\"dataframe\">\n",
       "  <thead>\n",
       "    <tr style=\"text-align: right;\">\n",
       "      <th></th>\n",
       "      <th>date</th>\n",
       "      <th>source</th>\n",
       "      <th>medium</th>\n",
       "      <th>delivery_available</th>\n",
       "      <th>device_type</th>\n",
       "      <th>promo_activated</th>\n",
       "      <th>filter_used</th>\n",
       "      <th>pageviews</th>\n",
       "      <th>visits</th>\n",
       "      <th>productClick</th>\n",
       "      <th>addToCart</th>\n",
       "      <th>checkout</th>\n",
       "      <th>transactions</th>\n",
       "      <th>revenue</th>\n",
       "    </tr>\n",
       "  </thead>\n",
       "  <tbody>\n",
       "    <tr>\n",
       "      <td>0</td>\n",
       "      <td>2020-05-11</td>\n",
       "      <td>google</td>\n",
       "      <td>organic</td>\n",
       "      <td>Íå îïðåäåëåíî</td>\n",
       "      <td>Äåñêòîï</td>\n",
       "      <td>no</td>\n",
       "      <td>no</td>\n",
       "      <td>3120</td>\n",
       "      <td>1233</td>\n",
       "      <td>5240</td>\n",
       "      <td>1048</td>\n",
       "      <td>525</td>\n",
       "      <td>90</td>\n",
       "      <td>86649.0</td>\n",
       "    </tr>\n",
       "    <tr>\n",
       "      <td>1</td>\n",
       "      <td>2020-05-11</td>\n",
       "      <td>yandex</td>\n",
       "      <td>cpc</td>\n",
       "      <td>Íå îïðåäåëåíî</td>\n",
       "      <td>Ìîáàéë</td>\n",
       "      <td>yes</td>\n",
       "      <td>no</td>\n",
       "      <td>3302</td>\n",
       "      <td>544</td>\n",
       "      <td>9930</td>\n",
       "      <td>1984</td>\n",
       "      <td>1416</td>\n",
       "      <td>217</td>\n",
       "      <td>244478.0</td>\n",
       "    </tr>\n",
       "    <tr>\n",
       "      <td>2</td>\n",
       "      <td>2020-05-11</td>\n",
       "      <td>google</td>\n",
       "      <td>cpc</td>\n",
       "      <td>Íå îïðåäåëåíî</td>\n",
       "      <td>Ìîáàéë</td>\n",
       "      <td>no</td>\n",
       "      <td>no</td>\n",
       "      <td>2970</td>\n",
       "      <td>1450</td>\n",
       "      <td>5460</td>\n",
       "      <td>1090</td>\n",
       "      <td>599</td>\n",
       "      <td>100</td>\n",
       "      <td>105150.0</td>\n",
       "    </tr>\n",
       "    <tr>\n",
       "      <td>3</td>\n",
       "      <td>2020-05-11</td>\n",
       "      <td>google</td>\n",
       "      <td>cpc</td>\n",
       "      <td>Íå îïðåäåëåíî</td>\n",
       "      <td>Äåñêòîï</td>\n",
       "      <td>no</td>\n",
       "      <td>no</td>\n",
       "      <td>1875</td>\n",
       "      <td>854</td>\n",
       "      <td>4250</td>\n",
       "      <td>848</td>\n",
       "      <td>407</td>\n",
       "      <td>71</td>\n",
       "      <td>79003.0</td>\n",
       "    </tr>\n",
       "    <tr>\n",
       "      <td>4</td>\n",
       "      <td>2020-05-11</td>\n",
       "      <td>yandex</td>\n",
       "      <td>organic</td>\n",
       "      <td>Íå îïðåäåëåíî</td>\n",
       "      <td>Äåñêòîï</td>\n",
       "      <td>no</td>\n",
       "      <td>no</td>\n",
       "      <td>2159</td>\n",
       "      <td>1000</td>\n",
       "      <td>4110</td>\n",
       "      <td>824</td>\n",
       "      <td>351</td>\n",
       "      <td>62</td>\n",
       "      <td>61861.0</td>\n",
       "    </tr>\n",
       "  </tbody>\n",
       "</table>\n",
       "</div>"
      ],
      "text/plain": [
       "         date  source   medium delivery_available device_type promo_activated  \\\n",
       "0  2020-05-11  google  organic      Íå îïðåäåëåíî     Äåñêòîï              no   \n",
       "1  2020-05-11  yandex      cpc      Íå îïðåäåëåíî      Ìîáàéë             yes   \n",
       "2  2020-05-11  google      cpc      Íå îïðåäåëåíî      Ìîáàéë              no   \n",
       "3  2020-05-11  google      cpc      Íå îïðåäåëåíî     Äåñêòîï              no   \n",
       "4  2020-05-11  yandex  organic      Íå îïðåäåëåíî     Äåñêòîï              no   \n",
       "\n",
       "  filter_used  pageviews  visits  productClick  addToCart  checkout  \\\n",
       "0          no       3120    1233          5240       1048       525   \n",
       "1          no       3302     544          9930       1984      1416   \n",
       "2          no       2970    1450          5460       1090       599   \n",
       "3          no       1875     854          4250        848       407   \n",
       "4          no       2159    1000          4110        824       351   \n",
       "\n",
       "   transactions   revenue  \n",
       "0            90   86649.0  \n",
       "1           217  244478.0  \n",
       "2           100  105150.0  \n",
       "3            71   79003.0  \n",
       "4            62   61861.0  "
      ]
     },
     "execution_count": 2,
     "metadata": {},
     "output_type": "execute_result"
    }
   ],
   "source": [
    "df=pd.read_csv('summer_camp_data.xls.csv', encoding='latin-1')\n",
    "df.head(5)"
   ]
  },
  {
   "cell_type": "code",
   "execution_count": 3,
   "metadata": {},
   "outputs": [
    {
     "data": {
      "text/html": [
       "<div>\n",
       "<style scoped>\n",
       "    .dataframe tbody tr th:only-of-type {\n",
       "        vertical-align: middle;\n",
       "    }\n",
       "\n",
       "    .dataframe tbody tr th {\n",
       "        vertical-align: top;\n",
       "    }\n",
       "\n",
       "    .dataframe thead th {\n",
       "        text-align: right;\n",
       "    }\n",
       "</style>\n",
       "<table border=\"1\" class=\"dataframe\">\n",
       "  <thead>\n",
       "    <tr style=\"text-align: right;\">\n",
       "      <th></th>\n",
       "      <th>date</th>\n",
       "      <th>source</th>\n",
       "      <th>medium</th>\n",
       "      <th>promo_activated</th>\n",
       "      <th>filter_used</th>\n",
       "      <th>pageviews</th>\n",
       "      <th>visits</th>\n",
       "      <th>productClick</th>\n",
       "      <th>addToCart</th>\n",
       "      <th>checkout</th>\n",
       "      <th>transactions</th>\n",
       "      <th>revenue</th>\n",
       "    </tr>\n",
       "  </thead>\n",
       "  <tbody>\n",
       "    <tr>\n",
       "      <td>0</td>\n",
       "      <td>2020-05-11</td>\n",
       "      <td>google</td>\n",
       "      <td>organic</td>\n",
       "      <td>no</td>\n",
       "      <td>no</td>\n",
       "      <td>3120</td>\n",
       "      <td>1233</td>\n",
       "      <td>5240</td>\n",
       "      <td>1048</td>\n",
       "      <td>525</td>\n",
       "      <td>90</td>\n",
       "      <td>86649.0</td>\n",
       "    </tr>\n",
       "    <tr>\n",
       "      <td>1</td>\n",
       "      <td>2020-05-11</td>\n",
       "      <td>yandex</td>\n",
       "      <td>cpc</td>\n",
       "      <td>yes</td>\n",
       "      <td>no</td>\n",
       "      <td>3302</td>\n",
       "      <td>544</td>\n",
       "      <td>9930</td>\n",
       "      <td>1984</td>\n",
       "      <td>1416</td>\n",
       "      <td>217</td>\n",
       "      <td>244478.0</td>\n",
       "    </tr>\n",
       "    <tr>\n",
       "      <td>2</td>\n",
       "      <td>2020-05-11</td>\n",
       "      <td>google</td>\n",
       "      <td>cpc</td>\n",
       "      <td>no</td>\n",
       "      <td>no</td>\n",
       "      <td>2970</td>\n",
       "      <td>1450</td>\n",
       "      <td>5460</td>\n",
       "      <td>1090</td>\n",
       "      <td>599</td>\n",
       "      <td>100</td>\n",
       "      <td>105150.0</td>\n",
       "    </tr>\n",
       "    <tr>\n",
       "      <td>3</td>\n",
       "      <td>2020-05-11</td>\n",
       "      <td>google</td>\n",
       "      <td>cpc</td>\n",
       "      <td>no</td>\n",
       "      <td>no</td>\n",
       "      <td>1875</td>\n",
       "      <td>854</td>\n",
       "      <td>4250</td>\n",
       "      <td>848</td>\n",
       "      <td>407</td>\n",
       "      <td>71</td>\n",
       "      <td>79003.0</td>\n",
       "    </tr>\n",
       "    <tr>\n",
       "      <td>4</td>\n",
       "      <td>2020-05-11</td>\n",
       "      <td>yandex</td>\n",
       "      <td>organic</td>\n",
       "      <td>no</td>\n",
       "      <td>no</td>\n",
       "      <td>2159</td>\n",
       "      <td>1000</td>\n",
       "      <td>4110</td>\n",
       "      <td>824</td>\n",
       "      <td>351</td>\n",
       "      <td>62</td>\n",
       "      <td>61861.0</td>\n",
       "    </tr>\n",
       "    <tr>\n",
       "      <td>...</td>\n",
       "      <td>...</td>\n",
       "      <td>...</td>\n",
       "      <td>...</td>\n",
       "      <td>...</td>\n",
       "      <td>...</td>\n",
       "      <td>...</td>\n",
       "      <td>...</td>\n",
       "      <td>...</td>\n",
       "      <td>...</td>\n",
       "      <td>...</td>\n",
       "      <td>...</td>\n",
       "      <td>...</td>\n",
       "    </tr>\n",
       "    <tr>\n",
       "      <td>52719</td>\n",
       "      <td>2020-06-21</td>\n",
       "      <td>(direct)</td>\n",
       "      <td>(none)</td>\n",
       "      <td>yes</td>\n",
       "      <td>yes</td>\n",
       "      <td>65</td>\n",
       "      <td>4</td>\n",
       "      <td>250</td>\n",
       "      <td>50</td>\n",
       "      <td>58</td>\n",
       "      <td>4</td>\n",
       "      <td>4821.0</td>\n",
       "    </tr>\n",
       "    <tr>\n",
       "      <td>52720</td>\n",
       "      <td>2020-08-09</td>\n",
       "      <td>co-promo</td>\n",
       "      <td>email</td>\n",
       "      <td>no</td>\n",
       "      <td>no</td>\n",
       "      <td>43</td>\n",
       "      <td>2</td>\n",
       "      <td>250</td>\n",
       "      <td>50</td>\n",
       "      <td>23</td>\n",
       "      <td>1</td>\n",
       "      <td>7348.0</td>\n",
       "    </tr>\n",
       "    <tr>\n",
       "      <td>52721</td>\n",
       "      <td>2020-09-22</td>\n",
       "      <td>google</td>\n",
       "      <td>cpc</td>\n",
       "      <td>yes</td>\n",
       "      <td>yes</td>\n",
       "      <td>153</td>\n",
       "      <td>3</td>\n",
       "      <td>250</td>\n",
       "      <td>50</td>\n",
       "      <td>58</td>\n",
       "      <td>1</td>\n",
       "      <td>958.0</td>\n",
       "    </tr>\n",
       "    <tr>\n",
       "      <td>52722</td>\n",
       "      <td>2020-08-25</td>\n",
       "      <td>(direct)</td>\n",
       "      <td>(none)</td>\n",
       "      <td>yes</td>\n",
       "      <td>yes</td>\n",
       "      <td>219</td>\n",
       "      <td>8</td>\n",
       "      <td>250</td>\n",
       "      <td>50</td>\n",
       "      <td>45</td>\n",
       "      <td>1</td>\n",
       "      <td>828.0</td>\n",
       "    </tr>\n",
       "    <tr>\n",
       "      <td>52723</td>\n",
       "      <td>2020-03-19</td>\n",
       "      <td>admitad</td>\n",
       "      <td>cpa</td>\n",
       "      <td>yes</td>\n",
       "      <td>yes</td>\n",
       "      <td>83</td>\n",
       "      <td>5</td>\n",
       "      <td>250</td>\n",
       "      <td>50</td>\n",
       "      <td>25</td>\n",
       "      <td>4</td>\n",
       "      <td>4078.0</td>\n",
       "    </tr>\n",
       "  </tbody>\n",
       "</table>\n",
       "<p>52724 rows × 12 columns</p>\n",
       "</div>"
      ],
      "text/plain": [
       "             date    source   medium promo_activated filter_used  pageviews  \\\n",
       "0      2020-05-11    google  organic              no          no       3120   \n",
       "1      2020-05-11    yandex      cpc             yes          no       3302   \n",
       "2      2020-05-11    google      cpc              no          no       2970   \n",
       "3      2020-05-11    google      cpc              no          no       1875   \n",
       "4      2020-05-11    yandex  organic              no          no       2159   \n",
       "...           ...       ...      ...             ...         ...        ...   \n",
       "52719  2020-06-21  (direct)   (none)             yes         yes         65   \n",
       "52720  2020-08-09  co-promo    email              no          no         43   \n",
       "52721  2020-09-22    google      cpc             yes         yes        153   \n",
       "52722  2020-08-25  (direct)   (none)             yes         yes        219   \n",
       "52723  2020-03-19   admitad      cpa             yes         yes         83   \n",
       "\n",
       "       visits  productClick  addToCart  checkout  transactions   revenue  \n",
       "0        1233          5240       1048       525            90   86649.0  \n",
       "1         544          9930       1984      1416           217  244478.0  \n",
       "2        1450          5460       1090       599           100  105150.0  \n",
       "3         854          4250        848       407            71   79003.0  \n",
       "4        1000          4110        824       351            62   61861.0  \n",
       "...       ...           ...        ...       ...           ...       ...  \n",
       "52719       4           250         50        58             4    4821.0  \n",
       "52720       2           250         50        23             1    7348.0  \n",
       "52721       3           250         50        58             1     958.0  \n",
       "52722       8           250         50        45             1     828.0  \n",
       "52723       5           250         50        25             4    4078.0  \n",
       "\n",
       "[52724 rows x 12 columns]"
      ]
     },
     "execution_count": 3,
     "metadata": {},
     "output_type": "execute_result"
    }
   ],
   "source": [
    "#удаление корявых столбцов \n",
    "df=df.drop(['delivery_available', 'device_type'], axis=1)\n",
    "df"
   ]
  },
  {
   "cell_type": "code",
   "execution_count": 4,
   "metadata": {},
   "outputs": [
    {
     "name": "stdout",
     "output_type": "stream",
     "text": [
      "<class 'pandas.core.frame.DataFrame'>\n",
      "RangeIndex: 52724 entries, 0 to 52723\n",
      "Data columns (total 12 columns):\n",
      "date               52724 non-null object\n",
      "source             52724 non-null object\n",
      "medium             52724 non-null object\n",
      "promo_activated    52724 non-null object\n",
      "filter_used        52724 non-null object\n",
      "pageviews          52724 non-null int64\n",
      "visits             52724 non-null int64\n",
      "productClick       52724 non-null int64\n",
      "addToCart          52724 non-null int64\n",
      "checkout           52724 non-null int64\n",
      "transactions       52724 non-null int64\n",
      "revenue            52724 non-null float64\n",
      "dtypes: float64(1), int64(6), object(5)\n",
      "memory usage: 4.8+ MB\n"
     ]
    }
   ],
   "source": [
    "df.info()"
   ]
  },
  {
   "cell_type": "code",
   "execution_count": 5,
   "metadata": {},
   "outputs": [
    {
     "name": "stdout",
     "output_type": "stream",
     "text": [
      "<class 'pandas.core.frame.DataFrame'>\n",
      "RangeIndex: 52724 entries, 0 to 52723\n",
      "Data columns (total 12 columns):\n",
      "date               52724 non-null datetime64[ns]\n",
      "source             52724 non-null object\n",
      "medium             52724 non-null object\n",
      "promo_activated    52724 non-null object\n",
      "filter_used        52724 non-null object\n",
      "pageviews          52724 non-null int64\n",
      "visits             52724 non-null int64\n",
      "productClick       52724 non-null int64\n",
      "addToCart          52724 non-null int64\n",
      "checkout           52724 non-null int64\n",
      "transactions       52724 non-null int64\n",
      "revenue            52724 non-null float64\n",
      "dtypes: datetime64[ns](1), float64(1), int64(6), object(4)\n",
      "memory usage: 4.8+ MB\n"
     ]
    },
    {
     "data": {
      "text/html": [
       "<div>\n",
       "<style scoped>\n",
       "    .dataframe tbody tr th:only-of-type {\n",
       "        vertical-align: middle;\n",
       "    }\n",
       "\n",
       "    .dataframe tbody tr th {\n",
       "        vertical-align: top;\n",
       "    }\n",
       "\n",
       "    .dataframe thead th {\n",
       "        text-align: right;\n",
       "    }\n",
       "</style>\n",
       "<table border=\"1\" class=\"dataframe\">\n",
       "  <thead>\n",
       "    <tr style=\"text-align: right;\">\n",
       "      <th></th>\n",
       "      <th>date</th>\n",
       "      <th>source</th>\n",
       "      <th>medium</th>\n",
       "      <th>promo_activated</th>\n",
       "      <th>filter_used</th>\n",
       "      <th>pageviews</th>\n",
       "      <th>visits</th>\n",
       "      <th>productClick</th>\n",
       "      <th>addToCart</th>\n",
       "      <th>checkout</th>\n",
       "      <th>transactions</th>\n",
       "      <th>revenue</th>\n",
       "    </tr>\n",
       "  </thead>\n",
       "  <tbody>\n",
       "    <tr>\n",
       "      <td>0</td>\n",
       "      <td>2020-05-11</td>\n",
       "      <td>google</td>\n",
       "      <td>organic</td>\n",
       "      <td>no</td>\n",
       "      <td>no</td>\n",
       "      <td>3120</td>\n",
       "      <td>1233</td>\n",
       "      <td>5240</td>\n",
       "      <td>1048</td>\n",
       "      <td>525</td>\n",
       "      <td>90</td>\n",
       "      <td>86649.0</td>\n",
       "    </tr>\n",
       "    <tr>\n",
       "      <td>1</td>\n",
       "      <td>2020-05-11</td>\n",
       "      <td>yandex</td>\n",
       "      <td>cpc</td>\n",
       "      <td>yes</td>\n",
       "      <td>no</td>\n",
       "      <td>3302</td>\n",
       "      <td>544</td>\n",
       "      <td>9930</td>\n",
       "      <td>1984</td>\n",
       "      <td>1416</td>\n",
       "      <td>217</td>\n",
       "      <td>244478.0</td>\n",
       "    </tr>\n",
       "    <tr>\n",
       "      <td>2</td>\n",
       "      <td>2020-05-11</td>\n",
       "      <td>google</td>\n",
       "      <td>cpc</td>\n",
       "      <td>no</td>\n",
       "      <td>no</td>\n",
       "      <td>2970</td>\n",
       "      <td>1450</td>\n",
       "      <td>5460</td>\n",
       "      <td>1090</td>\n",
       "      <td>599</td>\n",
       "      <td>100</td>\n",
       "      <td>105150.0</td>\n",
       "    </tr>\n",
       "    <tr>\n",
       "      <td>3</td>\n",
       "      <td>2020-05-11</td>\n",
       "      <td>google</td>\n",
       "      <td>cpc</td>\n",
       "      <td>no</td>\n",
       "      <td>no</td>\n",
       "      <td>1875</td>\n",
       "      <td>854</td>\n",
       "      <td>4250</td>\n",
       "      <td>848</td>\n",
       "      <td>407</td>\n",
       "      <td>71</td>\n",
       "      <td>79003.0</td>\n",
       "    </tr>\n",
       "    <tr>\n",
       "      <td>4</td>\n",
       "      <td>2020-05-11</td>\n",
       "      <td>yandex</td>\n",
       "      <td>organic</td>\n",
       "      <td>no</td>\n",
       "      <td>no</td>\n",
       "      <td>2159</td>\n",
       "      <td>1000</td>\n",
       "      <td>4110</td>\n",
       "      <td>824</td>\n",
       "      <td>351</td>\n",
       "      <td>62</td>\n",
       "      <td>61861.0</td>\n",
       "    </tr>\n",
       "  </tbody>\n",
       "</table>\n",
       "</div>"
      ],
      "text/plain": [
       "        date  source   medium promo_activated filter_used  pageviews  visits  \\\n",
       "0 2020-05-11  google  organic              no          no       3120    1233   \n",
       "1 2020-05-11  yandex      cpc             yes          no       3302     544   \n",
       "2 2020-05-11  google      cpc              no          no       2970    1450   \n",
       "3 2020-05-11  google      cpc              no          no       1875     854   \n",
       "4 2020-05-11  yandex  organic              no          no       2159    1000   \n",
       "\n",
       "   productClick  addToCart  checkout  transactions   revenue  \n",
       "0          5240       1048       525            90   86649.0  \n",
       "1          9930       1984      1416           217  244478.0  \n",
       "2          5460       1090       599           100  105150.0  \n",
       "3          4250        848       407            71   79003.0  \n",
       "4          4110        824       351            62   61861.0  "
      ]
     },
     "execution_count": 5,
     "metadata": {},
     "output_type": "execute_result"
    }
   ],
   "source": [
    "#нужно сделать столбец даты в формате datetime,а не object\n",
    "df['date'] = pd.to_datetime(df['date'])\n",
    "df.info()\n",
    "df.head()"
   ]
  },
  {
   "cell_type": "markdown",
   "metadata": {},
   "source": [
    "#### а) Какой рекламный канал принёс больше всего дохода за всё время?"
   ]
  },
  {
   "cell_type": "code",
   "execution_count": 6,
   "metadata": {},
   "outputs": [
    {
     "data": {
      "image/png": "[encoded data removed]",
      "text/plain": [
       "<Figure size 1440x576 with 1 Axes>"
      ]
     },
     "metadata": {
      "needs_background": "light"
     },
     "output_type": "display_data"
    }
   ],
   "source": [
    "plt.figure(figsize=(20,8))\n",
    "sns.barplot(data=df, x='source', y='revenue')\n",
    "plt.xlabel('Рекламный канал')\n",
    "plt.ylabel('Доход')\n",
    "plt.title('Зависимость дохода от рекламного канала')\n",
    "plt.show()"
   ]
  },
  {
   "cell_type": "markdown",
   "metadata": {},
   "source": [
    "В результате видим, что рекламный канал, который дал наибольший доход это direct"
   ]
  },
  {
   "cell_type": "markdown",
   "metadata": {},
   "source": [
    "#### b) Как изменился средний чек транзакции после введения коронавирусных ограничений? Как он изменился для пользователей, покупающих с промокодом и без? (параметр «promo_activated»)"
   ]
  },
  {
   "cell_type": "markdown",
   "metadata": {},
   "source": [
    "Будем считать датой введения коронавирусных ограничений 30 марта, когда официально запретили выходить из дома в Москве и Подмосковье (источник википедия)"
   ]
  },
  {
   "cell_type": "code",
   "execution_count": 14,
   "metadata": {},
   "outputs": [
    {
     "name": "stdout",
     "output_type": "stream",
     "text": [
      "Средний чек до ковидных ограничений:  116.17988624289018\n",
      "Средний чек после введения ковидных ограничений:  159.8431586113002\n"
     ]
    }
   ],
   "source": [
    "covid = '2020-03-30' #запишем как дату начала ковидных ограничений\n",
    "before = df.query('date < @covid') #выделим период до этой даты\n",
    "after = df.query('date >= @covid') #и после\n",
    "\n",
    "x = before['checkout'].mean()\n",
    "y = after['checkout'].mean()\n",
    "print('Средний чек до ковидных ограничений: ', x)\n",
    "print('Средний чек после введения ковидных ограничений: ', y)"
   ]
  },
  {
   "cell_type": "code",
   "execution_count": 13,
   "metadata": {},
   "outputs": [
    {
     "name": "stdout",
     "output_type": "stream",
     "text": [
      "Средний чек без активации промокода:  107.866320641719\n",
      "Средний чек c активацией промокода:  188.9793429468081\n"
     ]
    }
   ],
   "source": [
    "without_promo = df[df['promo_activated'] == 'no'] #строки данных без применения промокода\n",
    "with_promo = df[df['promo_activated'] == 'yes'] #с применением промокода\n",
    "\n",
    "without_mean = without_promo['checkout'].mean()\n",
    "with_mean = with_promo['checkout'].mean()\n",
    "print('Средний чек без активации промокода: ', without_mean)\n",
    "print('Средний чек c активацией промокода: ', with_mean)"
   ]
  },
  {
   "cell_type": "markdown",
   "metadata": {},
   "source": [
    "В результате видим, что средний чек увеличился после введения короновирусных ограничений. При этом получилось, что средний чек выше, если пользователь применил промокод."
   ]
  },
  {
   "cell_type": "markdown",
   "metadata": {},
   "source": [
    "#### c) Можно ли с уверенностью в 95% сказать, что CR (коэффициент конверсии в транзакцию) в выходные дни отличается от CR в будние дни?"
   ]
  },
  {
   "cell_type": "markdown",
   "metadata": {},
   "source": [
    "Здесь сначала было решено вывести отдельно будни и выходные и записать это в отдельный столбец дня недели. После этого провести бутстреп для определения 95% доверительного интервала."
   ]
  },
  {
   "cell_type": "code",
   "execution_count": 42,
   "metadata": {},
   "outputs": [
    {
     "data": {
      "text/html": [
       "<div>\n",
       "<style scoped>\n",
       "    .dataframe tbody tr th:only-of-type {\n",
       "        vertical-align: middle;\n",
       "    }\n",
       "\n",
       "    .dataframe tbody tr th {\n",
       "        vertical-align: top;\n",
       "    }\n",
       "\n",
       "    .dataframe thead th {\n",
       "        text-align: right;\n",
       "    }\n",
       "</style>\n",
       "<table border=\"1\" class=\"dataframe\">\n",
       "  <thead>\n",
       "    <tr style=\"text-align: right;\">\n",
       "      <th></th>\n",
       "      <th>date</th>\n",
       "      <th>source</th>\n",
       "      <th>medium</th>\n",
       "      <th>promo_activated</th>\n",
       "      <th>filter_used</th>\n",
       "      <th>pageviews</th>\n",
       "      <th>visits</th>\n",
       "      <th>productClick</th>\n",
       "      <th>addToCart</th>\n",
       "      <th>checkout</th>\n",
       "      <th>transactions</th>\n",
       "      <th>revenue</th>\n",
       "      <th>weekday</th>\n",
       "    </tr>\n",
       "  </thead>\n",
       "  <tbody>\n",
       "    <tr>\n",
       "      <td>0</td>\n",
       "      <td>2020-05-11</td>\n",
       "      <td>google</td>\n",
       "      <td>organic</td>\n",
       "      <td>no</td>\n",
       "      <td>no</td>\n",
       "      <td>3120</td>\n",
       "      <td>1233</td>\n",
       "      <td>5240</td>\n",
       "      <td>1048</td>\n",
       "      <td>525</td>\n",
       "      <td>90</td>\n",
       "      <td>86649.0</td>\n",
       "      <td>Monday</td>\n",
       "    </tr>\n",
       "    <tr>\n",
       "      <td>1</td>\n",
       "      <td>2020-05-11</td>\n",
       "      <td>yandex</td>\n",
       "      <td>cpc</td>\n",
       "      <td>yes</td>\n",
       "      <td>no</td>\n",
       "      <td>3302</td>\n",
       "      <td>544</td>\n",
       "      <td>9930</td>\n",
       "      <td>1984</td>\n",
       "      <td>1416</td>\n",
       "      <td>217</td>\n",
       "      <td>244478.0</td>\n",
       "      <td>Monday</td>\n",
       "    </tr>\n",
       "    <tr>\n",
       "      <td>2</td>\n",
       "      <td>2020-05-11</td>\n",
       "      <td>google</td>\n",
       "      <td>cpc</td>\n",
       "      <td>no</td>\n",
       "      <td>no</td>\n",
       "      <td>2970</td>\n",
       "      <td>1450</td>\n",
       "      <td>5460</td>\n",
       "      <td>1090</td>\n",
       "      <td>599</td>\n",
       "      <td>100</td>\n",
       "      <td>105150.0</td>\n",
       "      <td>Monday</td>\n",
       "    </tr>\n",
       "    <tr>\n",
       "      <td>3</td>\n",
       "      <td>2020-05-11</td>\n",
       "      <td>google</td>\n",
       "      <td>cpc</td>\n",
       "      <td>no</td>\n",
       "      <td>no</td>\n",
       "      <td>1875</td>\n",
       "      <td>854</td>\n",
       "      <td>4250</td>\n",
       "      <td>848</td>\n",
       "      <td>407</td>\n",
       "      <td>71</td>\n",
       "      <td>79003.0</td>\n",
       "      <td>Monday</td>\n",
       "    </tr>\n",
       "    <tr>\n",
       "      <td>4</td>\n",
       "      <td>2020-05-11</td>\n",
       "      <td>yandex</td>\n",
       "      <td>organic</td>\n",
       "      <td>no</td>\n",
       "      <td>no</td>\n",
       "      <td>2159</td>\n",
       "      <td>1000</td>\n",
       "      <td>4110</td>\n",
       "      <td>824</td>\n",
       "      <td>351</td>\n",
       "      <td>62</td>\n",
       "      <td>61861.0</td>\n",
       "      <td>Monday</td>\n",
       "    </tr>\n",
       "  </tbody>\n",
       "</table>\n",
       "</div>"
      ],
      "text/plain": [
       "        date  source   medium promo_activated filter_used  pageviews  visits  \\\n",
       "0 2020-05-11  google  organic              no          no       3120    1233   \n",
       "1 2020-05-11  yandex      cpc             yes          no       3302     544   \n",
       "2 2020-05-11  google      cpc              no          no       2970    1450   \n",
       "3 2020-05-11  google      cpc              no          no       1875     854   \n",
       "4 2020-05-11  yandex  organic              no          no       2159    1000   \n",
       "\n",
       "   productClick  addToCart  checkout  transactions   revenue weekday  \n",
       "0          5240       1048       525            90   86649.0  Monday  \n",
       "1          9930       1984      1416           217  244478.0  Monday  \n",
       "2          5460       1090       599           100  105150.0  Monday  \n",
       "3          4250        848       407            71   79003.0  Monday  \n",
       "4          4110        824       351            62   61861.0  Monday  "
      ]
     },
     "execution_count": 42,
     "metadata": {},
     "output_type": "execute_result"
    }
   ],
   "source": [
    "df['weekday'] = df['date'].dt.weekday_name\n",
    "\n",
    "df.head()"
   ]
  },
  {
   "cell_type": "code",
   "execution_count": 39,
   "metadata": {},
   "outputs": [],
   "source": [
    "import random \n",
    "from scipy import stats as st\n",
    "from scipy.stats import t"
   ]
  },
  {
   "cell_type": "code",
   "execution_count": 40,
   "metadata": {},
   "outputs": [],
   "source": [
    "#создаем функцию для создания репликации выборок для одномерного масссива:\n",
    "def bootstrap_replicate_1d(data, func):\n",
    "    bs_sample = np.random.choice(data, len(data))\n",
    "    return func(bs_sample)"
   ]
  },
  {
   "cell_type": "code",
   "execution_count": null,
   "metadata": {},
   "outputs": [],
   "source": [
    "bs_replicates = np.empty(10000)\n",
    "for i in range(10000):\n",
    "    bs_replicates[i] = bootstrap_replicate_1d(df, np.mean)\n",
    "    \n",
    "np.percentile(df, [2.5, 97.5])"
   ]
  },
  {
   "cell_type": "markdown",
   "metadata": {},
   "source": [
    "#### d) Вам необходимо спрогнозировать объем дохода, полученного с пользователей, приведенных на сайт контекстной рекламой (medium = cpc) на полгода вперед. Опишите, как бы вы подошли к этой задаче и какие дополнительные данные вам понадобятся?"
   ]
  },
  {
   "cell_type": "markdown",
   "metadata": {},
   "source": [
    "Нужно будет использовать алгоритмы регрессии для предсказания этого показателя. Из основных этапов можно выделить разделение датасета на выборки, оценка важности факторов и удаление не нужных. Построение и настройка моделей, кросс-валидация и оценка метрики."
   ]
  },
  {
   "cell_type": "code",
   "execution_count": null,
   "metadata": {},
   "outputs": [],
   "source": []
  }
 ],
 "metadata": {
  "ExecuteTimeLog": [
   {
    "duration": 1453,
    "start_time": "2021-06-26T12:38:45.577Z"
   },
   {
    "duration": 241,
    "start_time": "2021-06-26T12:38:47.961Z"
   },
   {
    "duration": 28,
    "start_time": "2021-06-26T12:38:50.037Z"
   },
   {
    "duration": 26,
    "start_time": "2021-06-26T12:38:53.877Z"
   },
   {
    "duration": 49,
    "start_time": "2021-06-26T12:38:56.989Z"
   },
   {
    "duration": 2819,
    "start_time": "2021-06-26T12:41:30.893Z"
   },
   {
    "duration": 24,
    "start_time": "2021-06-26T12:41:36.721Z"
   },
   {
    "duration": 7,
    "start_time": "2021-06-26T12:41:38.345Z"
   },
   {
    "duration": 18,
    "start_time": "2021-06-26T12:41:58.445Z"
   },
   {
    "duration": 6,
    "start_time": "2021-06-26T12:42:00.877Z"
   },
   {
    "duration": 380,
    "start_time": "2021-06-26T12:49:14.348Z"
   },
   {
    "duration": 1922,
    "start_time": "2021-06-26T12:49:47.768Z"
   },
   {
    "duration": 23,
    "start_time": "2021-06-26T12:50:26.796Z"
   },
   {
    "duration": 20,
    "start_time": "2021-06-26T12:55:19.607Z"
   },
   {
    "duration": 4,
    "start_time": "2021-06-26T13:12:46.781Z"
   },
   {
    "duration": 279,
    "start_time": "2021-06-26T13:20:29.476Z"
   },
   {
    "duration": 4,
    "start_time": "2021-06-26T13:22:25.456Z"
   },
   {
    "duration": 96,
    "start_time": "2021-06-26T13:23:02.352Z"
   },
   {
    "duration": 353,
    "start_time": "2021-06-26T13:23:12.184Z"
   },
   {
    "duration": 7,
    "start_time": "2021-06-26T13:23:36.384Z"
   },
   {
    "duration": 263,
    "start_time": "2021-06-26T13:28:16.344Z"
   },
   {
    "duration": 270,
    "start_time": "2021-06-26T13:28:32.591Z"
   },
   {
    "duration": 41,
    "start_time": "2021-06-26T13:30:58.935Z"
   },
   {
    "duration": 336,
    "start_time": "2021-06-26T14:19:47.285Z"
   },
   {
    "duration": 297,
    "start_time": "2021-06-26T14:20:12.393Z"
   },
   {
    "duration": 300,
    "start_time": "2021-06-26T14:21:15.621Z"
   },
   {
    "duration": 1161,
    "start_time": "2021-06-26T14:22:01.812Z"
   },
   {
    "duration": 57,
    "start_time": "2021-06-26T14:22:29.168Z"
   },
   {
    "duration": 3522,
    "start_time": "2021-06-26T14:22:38.004Z"
   },
   {
    "duration": 5547,
    "start_time": "2021-06-26T14:22:52.725Z"
   },
   {
    "duration": 7,
    "start_time": "2021-06-26T14:24:08.080Z"
   },
   {
    "duration": 2096,
    "start_time": "2021-06-26T14:25:53.584Z"
   },
   {
    "duration": 1995,
    "start_time": "2021-06-26T14:26:17.332Z"
   },
   {
    "duration": 308,
    "start_time": "2021-06-26T14:28:37.036Z"
   },
   {
    "duration": 315,
    "start_time": "2021-06-26T14:55:11.131Z"
   },
   {
    "duration": 309,
    "start_time": "2021-06-26T15:09:39.465Z"
   },
   {
    "duration": 340,
    "start_time": "2021-06-26T15:15:16.665Z"
   },
   {
    "duration": 414,
    "start_time": "2021-06-26T15:15:48.585Z"
   },
   {
    "duration": 4,
    "start_time": "2021-06-26T15:49:04.388Z"
   },
   {
    "duration": 4,
    "start_time": "2021-06-26T15:49:07.084Z"
   },
   {
    "duration": 1551,
    "start_time": "2021-06-26T15:49:09.036Z"
   },
   {
    "duration": 43,
    "start_time": "2021-06-26T16:05:04.313Z"
   }
  ],
  "kernelspec": {
   "display_name": "Python 3",
   "language": "python",
   "name": "python3"
  },
  "language_info": {
   "codemirror_mode": {
    "name": "ipython",
    "version": 3
   },
   "file_extension": ".py",
   "mimetype": "text/x-python",
   "name": "python",
   "nbconvert_exporter": "python",
   "pygments_lexer": "ipython3",
   "version": "3.7.8"
  },
  "toc": {
   "base_numbering": 1,
   "nav_menu": {},
   "number_sections": true,
   "sideBar": true,
   "skip_h1_title": true,
   "title_cell": "Table of Contents",
   "title_sidebar": "Contents",
   "toc_cell": false,
   "toc_position": {},
   "toc_section_display": true,
   "toc_window_display": false
  }
 },
 "nbformat": 4,
 "nbformat_minor": 2
}
